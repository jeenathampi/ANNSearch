{
  "nbformat": 4,
  "nbformat_minor": 0,
  "metadata": {
    "colab": {
      "name": "ANNSearchAlgo.ipynb",
      "provenance": [],
      "toc_visible": true,
      "authorship_tag": "ABX9TyPbkQnN9IcqlCpuu49wdnV0",
      "include_colab_link": true
    },
    "kernelspec": {
      "name": "python3",
      "display_name": "Python 3"
    },
    "language_info": {
      "name": "python"
    }
  },
  "cells": [
    {
      "cell_type": "markdown",
      "metadata": {
        "id": "view-in-github",
        "colab_type": "text"
      },
      "source": [
        "<a href=\"https://colab.research.google.com/github/jeenathampi/ANNSearch/blob/master/ANNSearchAlgo.ipynb\" target=\"_parent\"><img src=\"https://colab.research.google.com/assets/colab-badge.svg\" alt=\"Open In Colab\"/></a>"
      ]
    },
    {
      "cell_type": "markdown",
      "metadata": {
        "id": "NWLeo9VC6bl9"
      },
      "source": [
        "#Approximate Nearest Neighbor Search"
      ]
    },
    {
      "cell_type": "markdown",
      "metadata": {
        "id": "msdISanw7qAR"
      },
      "source": [
        "##Load all the necessary libraries"
      ]
    },
    {
      "cell_type": "code",
      "metadata": {
        "colab": {
          "base_uri": "https://localhost:8080/"
        },
        "id": "B85w98buiPv4",
        "outputId": "a7fde617-e648-4635-b4e6-5efd73f5ddb4"
      },
      "source": [
        "!pip install lightfm\n",
        "from lightfm import LightFM\n",
        "from lightfm.datasets import fetch_stackexchange\n",
        "import pickle\n",
        "!pip install faiss-cpu --no-cache\n",
        "import faiss\n",
        "\n",
        "!pip install annoy\n",
        "import annoy\n",
        "\n",
        "!pip install nmslib\n",
        "import nmslib"
      ],
      "execution_count": 1,
      "outputs": [
        {
          "output_type": "stream",
          "name": "stdout",
          "text": [
            "Collecting lightfm\n",
            "  Downloading lightfm-1.16.tar.gz (310 kB)\n",
            "\u001b[?25l\r\u001b[K     |█                               | 10 kB 15.5 MB/s eta 0:00:01\r\u001b[K     |██▏                             | 20 kB 19.0 MB/s eta 0:00:01\r\u001b[K     |███▏                            | 30 kB 20.6 MB/s eta 0:00:01\r\u001b[K     |████▎                           | 40 kB 13.3 MB/s eta 0:00:01\r\u001b[K     |█████▎                          | 51 kB 9.6 MB/s eta 0:00:01\r\u001b[K     |██████▍                         | 61 kB 8.5 MB/s eta 0:00:01\r\u001b[K     |███████▍                        | 71 kB 7.9 MB/s eta 0:00:01\r\u001b[K     |████████▌                       | 81 kB 8.7 MB/s eta 0:00:01\r\u001b[K     |█████████▌                      | 92 kB 9.6 MB/s eta 0:00:01\r\u001b[K     |██████████▋                     | 102 kB 8.5 MB/s eta 0:00:01\r\u001b[K     |███████████▋                    | 112 kB 8.5 MB/s eta 0:00:01\r\u001b[K     |████████████▊                   | 122 kB 8.5 MB/s eta 0:00:01\r\u001b[K     |█████████████▊                  | 133 kB 8.5 MB/s eta 0:00:01\r\u001b[K     |██████████████▉                 | 143 kB 8.5 MB/s eta 0:00:01\r\u001b[K     |███████████████▉                | 153 kB 8.5 MB/s eta 0:00:01\r\u001b[K     |█████████████████               | 163 kB 8.5 MB/s eta 0:00:01\r\u001b[K     |██████████████████              | 174 kB 8.5 MB/s eta 0:00:01\r\u001b[K     |███████████████████             | 184 kB 8.5 MB/s eta 0:00:01\r\u001b[K     |████████████████████            | 194 kB 8.5 MB/s eta 0:00:01\r\u001b[K     |█████████████████████▏          | 204 kB 8.5 MB/s eta 0:00:01\r\u001b[K     |██████████████████████▏         | 215 kB 8.5 MB/s eta 0:00:01\r\u001b[K     |███████████████████████▎        | 225 kB 8.5 MB/s eta 0:00:01\r\u001b[K     |████████████████████████▎       | 235 kB 8.5 MB/s eta 0:00:01\r\u001b[K     |█████████████████████████▍      | 245 kB 8.5 MB/s eta 0:00:01\r\u001b[K     |██████████████████████████▍     | 256 kB 8.5 MB/s eta 0:00:01\r\u001b[K     |███████████████████████████▌    | 266 kB 8.5 MB/s eta 0:00:01\r\u001b[K     |████████████████████████████▌   | 276 kB 8.5 MB/s eta 0:00:01\r\u001b[K     |█████████████████████████████▋  | 286 kB 8.5 MB/s eta 0:00:01\r\u001b[K     |██████████████████████████████▋ | 296 kB 8.5 MB/s eta 0:00:01\r\u001b[K     |███████████████████████████████▊| 307 kB 8.5 MB/s eta 0:00:01\r\u001b[K     |████████████████████████████████| 310 kB 8.5 MB/s \n",
            "\u001b[?25hRequirement already satisfied: numpy in /usr/local/lib/python3.7/dist-packages (from lightfm) (1.19.5)\n",
            "Requirement already satisfied: scipy>=0.17.0 in /usr/local/lib/python3.7/dist-packages (from lightfm) (1.4.1)\n",
            "Requirement already satisfied: requests in /usr/local/lib/python3.7/dist-packages (from lightfm) (2.23.0)\n",
            "Requirement already satisfied: scikit-learn in /usr/local/lib/python3.7/dist-packages (from lightfm) (1.0.1)\n",
            "Requirement already satisfied: urllib3!=1.25.0,!=1.25.1,<1.26,>=1.21.1 in /usr/local/lib/python3.7/dist-packages (from requests->lightfm) (1.24.3)\n",
            "Requirement already satisfied: chardet<4,>=3.0.2 in /usr/local/lib/python3.7/dist-packages (from requests->lightfm) (3.0.4)\n",
            "Requirement already satisfied: idna<3,>=2.5 in /usr/local/lib/python3.7/dist-packages (from requests->lightfm) (2.10)\n",
            "Requirement already satisfied: certifi>=2017.4.17 in /usr/local/lib/python3.7/dist-packages (from requests->lightfm) (2021.10.8)\n",
            "Requirement already satisfied: threadpoolctl>=2.0.0 in /usr/local/lib/python3.7/dist-packages (from scikit-learn->lightfm) (3.0.0)\n",
            "Requirement already satisfied: joblib>=0.11 in /usr/local/lib/python3.7/dist-packages (from scikit-learn->lightfm) (1.1.0)\n",
            "Building wheels for collected packages: lightfm\n",
            "  Building wheel for lightfm (setup.py) ... \u001b[?25l\u001b[?25hdone\n",
            "  Created wheel for lightfm: filename=lightfm-1.16-cp37-cp37m-linux_x86_64.whl size=705352 sha256=70a9e7f2a9bc3675c3284b3836e879a34a002392ffda63f4879dba4a3f8afbb6\n",
            "  Stored in directory: /root/.cache/pip/wheels/f8/56/28/5772a3bd3413d65f03aa452190b00898b680b10028a1021914\n",
            "Successfully built lightfm\n",
            "Installing collected packages: lightfm\n",
            "Successfully installed lightfm-1.16\n",
            "Collecting faiss-cpu\n",
            "  Downloading faiss_cpu-1.7.1.post2-cp37-cp37m-manylinux_2_17_x86_64.manylinux2014_x86_64.whl (8.4 MB)\n",
            "\u001b[K     |████████████████████████████████| 8.4 MB 1.0 MB/s \n",
            "\u001b[?25hInstalling collected packages: faiss-cpu\n",
            "Successfully installed faiss-cpu-1.7.1.post2\n",
            "Collecting annoy\n",
            "  Downloading annoy-1.17.0.tar.gz (646 kB)\n",
            "\u001b[K     |████████████████████████████████| 646 kB 6.8 MB/s \n",
            "\u001b[?25hBuilding wheels for collected packages: annoy\n",
            "  Building wheel for annoy (setup.py) ... \u001b[?25l\u001b[?25hdone\n",
            "  Created wheel for annoy: filename=annoy-1.17.0-cp37-cp37m-linux_x86_64.whl size=391681 sha256=1f69960f54a0e10eacaab3f9890cfad613c93134ce089df651a39016618bb6c5\n",
            "  Stored in directory: /root/.cache/pip/wheels/4f/e8/1e/7cc9ebbfa87a3b9f8ba79408d4d31831d67eea918b679a4c07\n",
            "Successfully built annoy\n",
            "Installing collected packages: annoy\n",
            "Successfully installed annoy-1.17.0\n",
            "Collecting nmslib\n",
            "  Downloading nmslib-2.1.1-cp37-cp37m-manylinux2010_x86_64.whl (13.5 MB)\n",
            "\u001b[K     |████████████████████████████████| 13.5 MB 76 kB/s \n",
            "\u001b[?25hRequirement already satisfied: psutil in /usr/local/lib/python3.7/dist-packages (from nmslib) (5.4.8)\n",
            "Collecting pybind11<2.6.2\n",
            "  Downloading pybind11-2.6.1-py2.py3-none-any.whl (188 kB)\n",
            "\u001b[K     |████████████████████████████████| 188 kB 52.1 MB/s \n",
            "\u001b[?25hRequirement already satisfied: numpy>=1.10.0 in /usr/local/lib/python3.7/dist-packages (from nmslib) (1.19.5)\n",
            "Installing collected packages: pybind11, nmslib\n",
            "Successfully installed nmslib-2.1.1 pybind11-2.6.1\n"
          ]
        }
      ]
    },
    {
      "cell_type": "markdown",
      "metadata": {
        "id": "yd1KqPARV90A"
      },
      "source": [
        "##Fetch Stackexchange dataset"
      ]
    },
    {
      "cell_type": "code",
      "metadata": {
        "id": "Pb6OcJByjeZN"
      },
      "source": [
        "stackexchange = fetch_stackexchange('crossvalidated')"
      ],
      "execution_count": 2,
      "outputs": []
    },
    {
      "cell_type": "code",
      "metadata": {
        "id": "nPmBmVy8jeco"
      },
      "source": [
        "train = stackexchange['train']\n",
        "test = stackexchange['test']\n",
        "\n",
        "model = LightFM(learning_rate=0.05, loss='warp', no_components=64, item_alpha=0.001)\n",
        "model.fit_partial(train, item_features=stackexchange['item_features'], epochs=20 )\n",
        "\n",
        "item_vectors = stackexchange['item_features'] * model.item_embeddings"
      ],
      "execution_count": 3,
      "outputs": []
    },
    {
      "cell_type": "code",
      "metadata": {
        "id": "QDeiT3ILdc1Z"
      },
      "source": [
        "with open('stackexchange.pickle', 'wb') as f:\n",
        "    pickle.dump({\"name\": stackexchange['item_feature_labels'], \"vector\": item_vectors}, f)"
      ],
      "execution_count": 4,
      "outputs": []
    },
    {
      "cell_type": "code",
      "metadata": {
        "id": "U1pAr6J-dc4F",
        "colab": {
          "base_uri": "https://localhost:8080/"
        },
        "outputId": "4add5be8-696b-4860-b27f-f8545a968535"
      },
      "source": [
        "def load_data():\n",
        "    with open('stackexchange.pickle', 'rb') as f:\n",
        "        data = pickle.load(f)\n",
        "    return data\n",
        "\n",
        "data = load_data()\n",
        "data"
      ],
      "execution_count": 5,
      "outputs": [
        {
          "output_type": "execute_result",
          "data": {
            "text/plain": [
              "{'name': array(['question_id:0', 'question_id:1', 'question_id:2', ...,\n",
              "        'question_id:72357', 'question_id:72358', 'question_id:72359'],\n",
              "       dtype='<U17'),\n",
              " 'vector': array([[ 9.3440279e-02,  1.9732678e-02, -1.9864440e-02, ...,\n",
              "          1.3154958e-01,  8.9234404e-02, -9.2519365e-02],\n",
              "        [-3.9647970e-02, -2.5713187e-02, -9.0683931e-03, ...,\n",
              "          2.9131718e-02,  6.0423020e-02, -1.3308075e-01],\n",
              "        [ 5.1907957e-02,  9.5002148e-03,  7.6833814e-02, ...,\n",
              "         -6.7052200e-02,  7.5678587e-02,  2.8238481e-02],\n",
              "        ...,\n",
              "        [ 8.9592505e-03,  4.9818680e-03,  3.1846061e-02, ...,\n",
              "         -1.5749639e-02,  2.6674976e-03, -1.3177467e-02],\n",
              "        [-9.4052507e-03,  3.4292003e-03,  2.6023377e-02, ...,\n",
              "         -5.1021464e-03,  3.3302605e-02,  1.0804808e-02],\n",
              "        [-2.0821518e-04, -1.1662702e-02,  1.5174535e-02, ...,\n",
              "         -3.2871828e-04, -4.4604290e-05,  1.3499340e-02]], dtype=float32)}"
            ]
          },
          "metadata": {},
          "execution_count": 5
        }
      ]
    },
    {
      "cell_type": "markdown",
      "metadata": {
        "id": "2pRDEmLM6U7F"
      },
      "source": [
        "##Exhaustive Search"
      ]
    },
    {
      "cell_type": "markdown",
      "metadata": {
        "id": "QFJG3O0g8caH"
      },
      "source": [
        "###Create the index class"
      ]
    },
    {
      "cell_type": "code",
      "metadata": {
        "id": "KA5RJSvrdc6w"
      },
      "source": [
        "#Exhaustive Search\n",
        "class ExactIndex():\n",
        "    def __init__(self, vectors, labels):\n",
        "        self.dimension = vectors.shape[1]\n",
        "        self.vectors = vectors.astype('float32')\n",
        "        self.labels = labels    \n",
        "   \n",
        "    def build(self):\n",
        "        self.index = faiss.IndexFlatL2(self.dimension,)\n",
        "        self.index.add(self.vectors)\n",
        "        \n",
        "    def query(self, vectors, k=10):\n",
        "        distances, indices = self.index.search(vectors, k) \n",
        "        # I expect only query on one vector thus the slice\n",
        "        return [self.labels[i] for i in indices[0]]"
      ],
      "execution_count": 6,
      "outputs": []
    },
    {
      "cell_type": "markdown",
      "metadata": {
        "id": "J4ypIkVe8dc3"
      },
      "source": [
        "###Build the index"
      ]
    },
    {
      "cell_type": "code",
      "metadata": {
        "id": "fESFFoTmdc9L"
      },
      "source": [
        "index = ExactIndex(data[\"vector\"], data[\"name\"])\n",
        "index.build()"
      ],
      "execution_count": 7,
      "outputs": []
    },
    {
      "cell_type": "markdown",
      "metadata": {
        "id": "FFZBkKIXBaWz"
      },
      "source": [
        "###Search for questions"
      ]
    },
    {
      "cell_type": "markdown",
      "metadata": {
        "id": "gJDt-tIeWVY9"
      },
      "source": [
        "Search for similar to question id 0. We can see below that we get approximate results."
      ]
    },
    {
      "cell_type": "code",
      "metadata": {
        "colab": {
          "base_uri": "https://localhost:8080/"
        },
        "id": "oBIUOR6-gAtM",
        "outputId": "130f5546-cbfd-4124-a291-6cd12cac086d"
      },
      "source": [
        "index.query(data['vector'][0:1])"
      ],
      "execution_count": 8,
      "outputs": [
        {
          "output_type": "execute_result",
          "data": {
            "text/plain": [
              "['question_id:0',\n",
              " 'question_id:212',\n",
              " 'question_id:225',\n",
              " 'question_id:508',\n",
              " 'question_id:3',\n",
              " 'question_id:357',\n",
              " 'question_id:2510',\n",
              " 'question_id:239',\n",
              " 'question_id:224',\n",
              " 'question_id:4418']"
            ]
          },
          "metadata": {},
          "execution_count": 8
        }
      ]
    },
    {
      "cell_type": "markdown",
      "metadata": {
        "id": "OmAeGJozCmLT"
      },
      "source": [
        "##Locality Sensitive Hashing"
      ]
    },
    {
      "cell_type": "markdown",
      "metadata": {
        "id": "KlHRFjySC8AE"
      },
      "source": [
        "In LSH, a hash table is constructed as their data structure by mapping points that are nearby into the same bucket."
      ]
    },
    {
      "cell_type": "markdown",
      "metadata": {
        "id": "bSNphuMeDL4l"
      },
      "source": [
        "###Create the index class"
      ]
    },
    {
      "cell_type": "code",
      "metadata": {
        "id": "GlUBup7hgAv6"
      },
      "source": [
        "#LSH\n",
        "class LSHIndex():\n",
        "    def __init__(self, vectors, labels):\n",
        "        self.dimension = vectors.shape[1]\n",
        "        self.vectors = vectors.astype('float32')\n",
        "        self.labels = labels    \n",
        "   \n",
        "    def build(self, num_bits=8):\n",
        "        self.index = faiss.IndexLSH(self.dimension, num_bits)\n",
        "        self.index.add(self.vectors)\n",
        "        \n",
        "    def query(self, vectors, k=10):\n",
        "        distances, indices = self.index.search(vectors, k) \n",
        "        # I expect only query on one vector thus the slice\n",
        "        return [self.labels[i] for i in indices[0]]"
      ],
      "execution_count": 9,
      "outputs": []
    },
    {
      "cell_type": "markdown",
      "metadata": {
        "id": "YgkAusFyDO_Z"
      },
      "source": [
        "###Build the index"
      ]
    },
    {
      "cell_type": "code",
      "metadata": {
        "id": "ilbzsRRwgAyv"
      },
      "source": [
        "index = LSHIndex(data[\"vector\"], data[\"name\"])\n",
        "index.build()"
      ],
      "execution_count": 10,
      "outputs": []
    },
    {
      "cell_type": "markdown",
      "metadata": {
        "id": "QBbx-YBHX7ER"
      },
      "source": [
        "###Search"
      ]
    },
    {
      "cell_type": "markdown",
      "metadata": {
        "id": "qXHJJLOxDg3u"
      },
      "source": [
        "We get approximate results to search for questions similar to question id 0."
      ]
    },
    {
      "cell_type": "code",
      "metadata": {
        "colab": {
          "base_uri": "https://localhost:8080/"
        },
        "id": "_j6WXdbngA1t",
        "outputId": "2a5df8d5-90c2-4afe-e990-967e1eaca3f0"
      },
      "source": [
        "index.query(data['vector'][0:1])"
      ],
      "execution_count": 11,
      "outputs": [
        {
          "output_type": "execute_result",
          "data": {
            "text/plain": [
              "['question_id:105',\n",
              " 'question_id:431',\n",
              " 'question_id:299',\n",
              " 'question_id:12',\n",
              " 'question_id:659',\n",
              " 'question_id:876',\n",
              " 'question_id:1300',\n",
              " 'question_id:1415',\n",
              " 'question_id:191',\n",
              " 'question_id:0']"
            ]
          },
          "metadata": {},
          "execution_count": 11
        }
      ]
    },
    {
      "cell_type": "markdown",
      "metadata": {
        "id": "-DwxM5GcDmje"
      },
      "source": [
        "##Product Quantization"
      ]
    },
    {
      "cell_type": "markdown",
      "metadata": {
        "id": "u5hWD3QWX4Us"
      },
      "source": [
        "###Create the index class"
      ]
    },
    {
      "cell_type": "markdown",
      "metadata": {
        "id": "00rzxRrSD2O_"
      },
      "source": [
        "Create the index class where we can control the subvector_size, number_of_partitions and search_in_x_partitions"
      ]
    },
    {
      "cell_type": "code",
      "metadata": {
        "id": "l9xuZ-hqgA4a"
      },
      "source": [
        "#Product Quantization\n",
        "class IVPQIndex():\n",
        "    def __init__(self, vectors, labels):\n",
        "        self.dimension = vectors.shape[1]\n",
        "        self.vectors = vectors.astype('float32')\n",
        "        self.labels = labels    \n",
        "    def build(self, number_of_partition=8, search_in_x_partitions=2, subvector_size=8):\n",
        "        quantizer = faiss.IndexFlatL2(self.dimension)\n",
        "        self.index = faiss.IndexIVFPQ(quantizer, \n",
        "                                      self.dimension, \n",
        "                                      number_of_partition, \n",
        "                                      search_in_x_partitions, \n",
        "                                      subvector_size)\n",
        "        self.index.train(self.vectors)\n",
        "        self.index.add(self.vectors)\n",
        "        \n",
        "    def query(self, vectors, k=10):\n",
        "        distances, indices = self.index.search(vectors, k) \n",
        "        # I expect only query on one vector thus the slice\n",
        "        return [self.labels[i] for i in indices[0]]"
      ],
      "execution_count": 12,
      "outputs": []
    },
    {
      "cell_type": "markdown",
      "metadata": {
        "id": "5uVx8TW2EFCv"
      },
      "source": [
        "###Build the index"
      ]
    },
    {
      "cell_type": "code",
      "metadata": {
        "id": "nKck1O7igA7E"
      },
      "source": [
        "index = IVPQIndex(data[\"vector\"], data[\"name\"])\n",
        "index.build()"
      ],
      "execution_count": 13,
      "outputs": []
    },
    {
      "cell_type": "markdown",
      "metadata": {
        "id": "v9Hl_4CzX0KU"
      },
      "source": [
        "###Search"
      ]
    },
    {
      "cell_type": "markdown",
      "metadata": {
        "id": "rSp_0dtOEW7S"
      },
      "source": [
        "We get approximate results to search for questions similar to question id 0."
      ]
    },
    {
      "cell_type": "code",
      "metadata": {
        "colab": {
          "base_uri": "https://localhost:8080/"
        },
        "id": "hoHwX8J_jA0O",
        "outputId": "dff3d185-77d6-45ce-b10e-ee9cc8ad05da"
      },
      "source": [
        "index.query(data['vector'][0:1])"
      ],
      "execution_count": 14,
      "outputs": [
        {
          "output_type": "execute_result",
          "data": {
            "text/plain": [
              "['question_id:698',\n",
              " 'question_id:363',\n",
              " 'question_id:819',\n",
              " 'question_id:0',\n",
              " 'question_id:337',\n",
              " 'question_id:319',\n",
              " 'question_id:858',\n",
              " 'question_id:1391',\n",
              " 'question_id:257',\n",
              " 'question_id:160']"
            ]
          },
          "metadata": {},
          "execution_count": 14
        }
      ]
    },
    {
      "cell_type": "markdown",
      "metadata": {
        "id": "uk_ZmRRuEdfy"
      },
      "source": [
        "##Trees and Graphs"
      ]
    },
    {
      "cell_type": "markdown",
      "metadata": {
        "id": "uuET0InCXtw8"
      },
      "source": [
        "###Create the index class"
      ]
    },
    {
      "cell_type": "markdown",
      "metadata": {
        "id": "OP6kkX9bE-Lc"
      },
      "source": [
        "Create the index class where we can control the number_of_trees and search_k"
      ]
    },
    {
      "cell_type": "code",
      "metadata": {
        "id": "MofDAyhHjA3C"
      },
      "source": [
        "#Trees\n",
        "class AnnoyIndex():\n",
        "    def __init__(self, vectors, labels):\n",
        "        self.dimention = vectors.shape[1]\n",
        "        self.vectors = vectors.astype('float32')\n",
        "        self.labels = labels\n",
        "\n",
        "\n",
        "    def build(self, number_of_trees=5):\n",
        "        self.index = annoy.AnnoyIndex(self.dimention)\n",
        "        for i, vec in enumerate(self.vectors):\n",
        "            self.index.add_item(i, vec.tolist())\n",
        "        self.index.build(number_of_trees)\n",
        "        \n",
        "    def query(self, vector, k=10):\n",
        "        indices = self.index.get_nns_by_vector(vector.tolist(), k)\n",
        "        return [self.labels[i] for i in indices]"
      ],
      "execution_count": 15,
      "outputs": []
    },
    {
      "cell_type": "markdown",
      "metadata": {
        "id": "6eS4OmiCFKKr"
      },
      "source": [
        "###Build the index"
      ]
    },
    {
      "cell_type": "code",
      "metadata": {
        "colab": {
          "base_uri": "https://localhost:8080/"
        },
        "id": "nsen0fOijA5u",
        "outputId": "9c76c5c5-2844-4284-daa2-107148cd5b63"
      },
      "source": [
        "index = AnnoyIndex(data[\"vector\"], data[\"name\"])\n",
        "index.build()"
      ],
      "execution_count": 16,
      "outputs": [
        {
          "output_type": "stream",
          "name": "stderr",
          "text": [
            "/usr/local/lib/python3.7/dist-packages/ipykernel_launcher.py:10: FutureWarning: The default argument for metric will be removed in future version of Annoy. Please pass metric='angular' explicitly.\n",
            "  # Remove the CWD from sys.path while we load stuff.\n"
          ]
        }
      ]
    },
    {
      "cell_type": "markdown",
      "metadata": {
        "id": "IZKYqtx4W6-Q"
      },
      "source": [
        "###Search"
      ]
    },
    {
      "cell_type": "markdown",
      "metadata": {
        "id": "tucVUOnJFQH3"
      },
      "source": [
        "We get approximate results to search for questions similar to question id 0."
      ]
    },
    {
      "cell_type": "code",
      "metadata": {
        "colab": {
          "base_uri": "https://localhost:8080/"
        },
        "id": "2u_MGvBDjA8w",
        "outputId": "549d5a80-71a2-4143-9aae-2365517a281e"
      },
      "source": [
        "index.query(data['vector'][0])"
      ],
      "execution_count": 17,
      "outputs": [
        {
          "output_type": "execute_result",
          "data": {
            "text/plain": [
              "['question_id:0',\n",
              " 'question_id:1712',\n",
              " 'question_id:214',\n",
              " 'question_id:360',\n",
              " 'question_id:629',\n",
              " 'question_id:1107',\n",
              " 'question_id:1244',\n",
              " 'question_id:1478',\n",
              " 'question_id:264',\n",
              " 'question_id:10594']"
            ]
          },
          "metadata": {},
          "execution_count": 17
        }
      ]
    },
    {
      "cell_type": "markdown",
      "metadata": {
        "id": "Ud8U5V0YFZmA"
      },
      "source": [
        "##HSNW"
      ]
    },
    {
      "cell_type": "markdown",
      "metadata": {
        "id": "PPYZAyxuFcPG"
      },
      "source": [
        "###Create the index class"
      ]
    },
    {
      "cell_type": "code",
      "metadata": {
        "id": "-v56R692jBBE"
      },
      "source": [
        "#hsnw\n",
        "class NMSLIBIndex():\n",
        "    def __init__(self, vectors, labels):\n",
        "        self.dimention = vectors.shape[1]\n",
        "        self.vectors = vectors.astype('float32')\n",
        "        self.labels = labels\n",
        "    def build(self):\n",
        "        self.index = nmslib.init(method='hnsw', space='cosinesimil')\n",
        "        self.index.addDataPointBatch(self.vectors)\n",
        "        self.index.createIndex({'post': 2})\n",
        "        \n",
        "    def query(self, vector, k=10):\n",
        "        indices = self.index.knnQuery(vector, k=k)\n",
        "        return [self.labels[i] for i in indices[0]]"
      ],
      "execution_count": 18,
      "outputs": []
    },
    {
      "cell_type": "markdown",
      "metadata": {
        "id": "J7R6HjiBFijg"
      },
      "source": [
        "###Build index"
      ]
    },
    {
      "cell_type": "code",
      "metadata": {
        "id": "4878fTCMkXFk"
      },
      "source": [
        "index = NMSLIBIndex(data[\"vector\"], data[\"name\"])\n",
        "index.build()"
      ],
      "execution_count": 19,
      "outputs": []
    },
    {
      "cell_type": "markdown",
      "metadata": {
        "id": "qP9uMzRmWyK_"
      },
      "source": [
        "###Search"
      ]
    },
    {
      "cell_type": "markdown",
      "metadata": {
        "id": "1_A2IINxFmn_"
      },
      "source": [
        "We get approximate results to search for questions similar to question id 0."
      ]
    },
    {
      "cell_type": "code",
      "metadata": {
        "colab": {
          "base_uri": "https://localhost:8080/"
        },
        "id": "-0KaRVn6kXIO",
        "outputId": "44585785-caad-4630-dc15-f5bb7d2882ae"
      },
      "source": [
        "index.query(data['vector'][0])"
      ],
      "execution_count": 20,
      "outputs": [
        {
          "output_type": "execute_result",
          "data": {
            "text/plain": [
              "['question_id:0',\n",
              " 'question_id:212',\n",
              " 'question_id:3',\n",
              " 'question_id:225',\n",
              " 'question_id:508',\n",
              " 'question_id:90',\n",
              " 'question_id:357',\n",
              " 'question_id:239',\n",
              " 'question_id:257',\n",
              " 'question_id:46']"
            ]
          },
          "metadata": {},
          "execution_count": 20
        }
      ]
    }
  ]
}